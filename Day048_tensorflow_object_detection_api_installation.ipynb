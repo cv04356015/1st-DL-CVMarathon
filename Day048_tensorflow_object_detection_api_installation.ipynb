{
 "cells": [
  {
   "cell_type": "markdown",
   "metadata": {},
   "source": [
    "# 將自己的 google drive 空間 mount 到 colab 環境\n",
    "\n",
    "- 若在 colab 環境，請執行下面程式，點開連結及選取自己的 gmail，將許可碼拷貝貼在格子裡"
   ]
  },
  {
   "cell_type": "code",
   "execution_count": null,
   "metadata": {},
   "outputs": [],
   "source": [
    "# from google.colab import drive\n",
    "# drive.mount('/content/gdrive')"
   ]
  },
  {
   "cell_type": "code",
   "execution_count": 1,
   "metadata": {},
   "outputs": [
    {
     "name": "stdout",
     "output_type": "stream",
     "text": [
      "C:\\Users\\Hsienlo\\OneDrive - me.mcu.edu.tw\\My Documents\\AI Learning Plan\\電腦視覺與深度學習馬拉松\\1st-DL-CVMarathon\\day048_workdir\n"
     ]
    }
   ],
   "source": [
    "%cd day048_workdir"
   ]
  },
  {
   "cell_type": "markdown",
   "metadata": {},
   "source": [
    "# 安裝相關套件"
   ]
  },
  {
   "cell_type": "code",
   "execution_count": 2,
   "metadata": {
    "collapsed": true,
    "jupyter": {
     "outputs_hidden": true
    }
   },
   "outputs": [
    {
     "name": "stdout",
     "output_type": "stream",
     "text": [
      "Requirement already satisfied: Cython in c:\\users\\hsienlo\\anaconda3\\lib\\site-packages (0.29.21)\n",
      "Requirement already satisfied: jupyter in c:\\users\\hsienlo\\anaconda3\\lib\\site-packages (1.0.0)\n",
      "Requirement already satisfied: notebook in c:\\users\\hsienlo\\anaconda3\\lib\\site-packages (from jupyter) (6.1.4)\n",
      "Requirement already satisfied: ipykernel in c:\\users\\hsienlo\\anaconda3\\lib\\site-packages (from jupyter) (5.3.4)\n",
      "Requirement already satisfied: qtconsole in c:\\users\\hsienlo\\anaconda3\\lib\\site-packages (from jupyter) (4.7.7)\n",
      "Requirement already satisfied: ipywidgets in c:\\users\\hsienlo\\anaconda3\\lib\\site-packages (from jupyter) (7.5.1)\n",
      "Requirement already satisfied: nbconvert in c:\\users\\hsienlo\\anaconda3\\lib\\site-packages (from jupyter) (6.0.7)\n",
      "Requirement already satisfied: jupyter-console in c:\\users\\hsienlo\\anaconda3\\lib\\site-packages (from jupyter) (6.2.0)\n",
      "Requirement already satisfied: terminado>=0.8.3 in c:\\users\\hsienlo\\anaconda3\\lib\\site-packages (from notebook->jupyter) (0.9.1)\n",
      "Requirement already satisfied: Send2Trash in c:\\users\\hsienlo\\anaconda3\\lib\\site-packages (from notebook->jupyter) (1.5.0)\n",
      "Requirement already satisfied: jupyter-client>=5.3.4 in c:\\users\\hsienlo\\anaconda3\\lib\\site-packages (from notebook->jupyter) (6.1.7)\n",
      "Requirement already satisfied: traitlets>=4.2.1 in c:\\users\\hsienlo\\anaconda3\\lib\\site-packages (from notebook->jupyter) (5.0.5)\n",
      "Requirement already satisfied: nbformat in c:\\users\\hsienlo\\anaconda3\\lib\\site-packages (from notebook->jupyter) (5.0.8)\n",
      "Requirement already satisfied: jinja2 in c:\\users\\hsienlo\\anaconda3\\lib\\site-packages (from notebook->jupyter) (2.11.2)\n",
      "Requirement already satisfied: prometheus-client in c:\\users\\hsienlo\\anaconda3\\lib\\site-packages (from notebook->jupyter) (0.8.0)\n",
      "Requirement already satisfied: pyzmq>=17 in c:\\users\\hsienlo\\anaconda3\\lib\\site-packages (from notebook->jupyter) (19.0.2)\n",
      "Requirement already satisfied: ipython-genutils in c:\\users\\hsienlo\\anaconda3\\lib\\site-packages (from notebook->jupyter) (0.2.0)\n",
      "Requirement already satisfied: argon2-cffi in c:\\users\\hsienlo\\anaconda3\\lib\\site-packages (from notebook->jupyter) (20.1.0)\n",
      "Requirement already satisfied: tornado>=5.0 in c:\\users\\hsienlo\\anaconda3\\lib\\site-packages (from notebook->jupyter) (6.0.4)\n",
      "Requirement already satisfied: jupyter-core>=4.6.1 in c:\\users\\hsienlo\\anaconda3\\lib\\site-packages (from notebook->jupyter) (4.6.3)\n",
      "Requirement already satisfied: ipython>=5.0.0 in c:\\users\\hsienlo\\anaconda3\\lib\\site-packages (from ipykernel->jupyter) (7.19.0)\n",
      "Requirement already satisfied: pygments in c:\\users\\hsienlo\\anaconda3\\lib\\site-packages (from qtconsole->jupyter) (2.7.2)\n",
      "Requirement already satisfied: qtpy in c:\\users\\hsienlo\\anaconda3\\lib\\site-packages (from qtconsole->jupyter) (1.9.0)\n",
      "Requirement already satisfied: widgetsnbextension~=3.5.0 in c:\\users\\hsienlo\\anaconda3\\lib\\site-packages (from ipywidgets->jupyter) (3.5.1)\n",
      "Requirement already satisfied: jupyterlab-pygments in c:\\users\\hsienlo\\anaconda3\\lib\\site-packages (from nbconvert->jupyter) (0.1.2)\n",
      "Requirement already satisfied: mistune<2,>=0.8.1 in c:\\users\\hsienlo\\anaconda3\\lib\\site-packages (from nbconvert->jupyter) (0.8.4)\n",
      "Requirement already satisfied: entrypoints>=0.2.2 in c:\\users\\hsienlo\\anaconda3\\lib\\site-packages (from nbconvert->jupyter) (0.3)\n",
      "Requirement already satisfied: pandocfilters>=1.4.1 in c:\\users\\hsienlo\\anaconda3\\lib\\site-packages (from nbconvert->jupyter) (1.4.3)\n",
      "Requirement already satisfied: bleach in c:\\users\\hsienlo\\anaconda3\\lib\\site-packages (from nbconvert->jupyter) (3.2.1)\n",
      "Requirement already satisfied: defusedxml in c:\\users\\hsienlo\\anaconda3\\lib\\site-packages (from nbconvert->jupyter) (0.6.0)\n",
      "Requirement already satisfied: nbclient<0.6.0,>=0.5.0 in c:\\users\\hsienlo\\anaconda3\\lib\\site-packages (from nbconvert->jupyter) (0.5.1)\n",
      "Requirement already satisfied: testpath in c:\\users\\hsienlo\\anaconda3\\lib\\site-packages (from nbconvert->jupyter) (0.4.4)\n",
      "Requirement already satisfied: prompt-toolkit!=3.0.0,!=3.0.1,<3.1.0,>=2.0.0 in c:\\users\\hsienlo\\anaconda3\\lib\\site-packages (from jupyter-console->jupyter) (3.0.8)\n",
      "Requirement already satisfied: pywinpty>=0.5 in c:\\users\\hsienlo\\anaconda3\\lib\\site-packages (from terminado>=0.8.3->notebook->jupyter) (0.5.7)\n",
      "Requirement already satisfied: python-dateutil>=2.1 in c:\\users\\hsienlo\\anaconda3\\lib\\site-packages (from jupyter-client>=5.3.4->notebook->jupyter) (2.8.1)\n",
      "Requirement already satisfied: jsonschema!=2.5.0,>=2.4 in c:\\users\\hsienlo\\anaconda3\\lib\\site-packages (from nbformat->notebook->jupyter) (3.2.0)\n",
      "Requirement already satisfied: MarkupSafe>=0.23 in c:\\users\\hsienlo\\anaconda3\\lib\\site-packages (from jinja2->notebook->jupyter) (1.1.1)\n",
      "Requirement already satisfied: six in c:\\users\\hsienlo\\anaconda3\\lib\\site-packages (from argon2-cffi->notebook->jupyter) (1.15.0)\n",
      "Requirement already satisfied: cffi>=1.0.0 in c:\\users\\hsienlo\\anaconda3\\lib\\site-packages (from argon2-cffi->notebook->jupyter) (1.14.3)\n",
      "Requirement already satisfied: pywin32>=1.0; sys_platform == \"win32\" in c:\\users\\hsienlo\\anaconda3\\lib\\site-packages (from jupyter-core>=4.6.1->notebook->jupyter) (227)\n",
      "Requirement already satisfied: jedi>=0.10 in c:\\users\\hsienlo\\anaconda3\\lib\\site-packages (from ipython>=5.0.0->ipykernel->jupyter) (0.17.1)\n",
      "Requirement already satisfied: pickleshare in c:\\users\\hsienlo\\anaconda3\\lib\\site-packages (from ipython>=5.0.0->ipykernel->jupyter) (0.7.5)\n",
      "Requirement already satisfied: backcall in c:\\users\\hsienlo\\anaconda3\\lib\\site-packages (from ipython>=5.0.0->ipykernel->jupyter) (0.2.0)\n",
      "Requirement already satisfied: setuptools>=18.5 in c:\\users\\hsienlo\\anaconda3\\lib\\site-packages (from ipython>=5.0.0->ipykernel->jupyter) (50.3.1.post20201107)\n",
      "Requirement already satisfied: decorator in c:\\users\\hsienlo\\anaconda3\\lib\\site-packages (from ipython>=5.0.0->ipykernel->jupyter) (4.4.2)\n",
      "Requirement already satisfied: colorama; sys_platform == \"win32\" in c:\\users\\hsienlo\\anaconda3\\lib\\site-packages (from ipython>=5.0.0->ipykernel->jupyter) (0.4.4)\n",
      "Requirement already satisfied: webencodings in c:\\users\\hsienlo\\anaconda3\\lib\\site-packages (from bleach->nbconvert->jupyter) (0.5.1)\n",
      "Requirement already satisfied: packaging in c:\\users\\hsienlo\\anaconda3\\lib\\site-packages (from bleach->nbconvert->jupyter) (20.4)\n",
      "Requirement already satisfied: nest-asyncio in c:\\users\\hsienlo\\anaconda3\\lib\\site-packages (from nbclient<0.6.0,>=0.5.0->nbconvert->jupyter) (1.4.2)\n",
      "Requirement already satisfied: async-generator in c:\\users\\hsienlo\\anaconda3\\lib\\site-packages (from nbclient<0.6.0,>=0.5.0->nbconvert->jupyter) (1.10)\n",
      "Requirement already satisfied: wcwidth in c:\\users\\hsienlo\\anaconda3\\lib\\site-packages (from prompt-toolkit!=3.0.0,!=3.0.1,<3.1.0,>=2.0.0->jupyter-console->jupyter) (0.2.5)\n",
      "Requirement already satisfied: attrs>=17.4.0 in c:\\users\\hsienlo\\anaconda3\\lib\\site-packages (from jsonschema!=2.5.0,>=2.4->nbformat->notebook->jupyter) (20.3.0)\n",
      "Requirement already satisfied: pyrsistent>=0.14.0 in c:\\users\\hsienlo\\anaconda3\\lib\\site-packages (from jsonschema!=2.5.0,>=2.4->nbformat->notebook->jupyter) (0.17.3)\n",
      "Requirement already satisfied: pycparser in c:\\users\\hsienlo\\anaconda3\\lib\\site-packages (from cffi>=1.0.0->argon2-cffi->notebook->jupyter) (2.20)\n",
      "Requirement already satisfied: parso<0.8.0,>=0.7.0 in c:\\users\\hsienlo\\anaconda3\\lib\\site-packages (from jedi>=0.10->ipython>=5.0.0->ipykernel->jupyter) (0.7.0)\n",
      "Requirement already satisfied: pyparsing>=2.0.2 in c:\\users\\hsienlo\\anaconda3\\lib\\site-packages (from packaging->bleach->nbconvert->jupyter) (2.4.7)\n",
      "Requirement already satisfied: matplotlib in c:\\users\\hsienlo\\anaconda3\\lib\\site-packages (3.3.2)\n",
      "Requirement already satisfied: pillow>=6.2.0 in c:\\users\\hsienlo\\anaconda3\\lib\\site-packages (from matplotlib) (8.0.1)\n",
      "Requirement already satisfied: kiwisolver>=1.0.1 in c:\\users\\hsienlo\\anaconda3\\lib\\site-packages (from matplotlib) (1.3.0)\n",
      "Requirement already satisfied: pyparsing!=2.0.4,!=2.1.2,!=2.1.6,>=2.0.3 in c:\\users\\hsienlo\\anaconda3\\lib\\site-packages (from matplotlib) (2.4.7)\n",
      "Requirement already satisfied: python-dateutil>=2.1 in c:\\users\\hsienlo\\anaconda3\\lib\\site-packages (from matplotlib) (2.8.1)\n",
      "Requirement already satisfied: numpy>=1.15 in c:\\users\\hsienlo\\anaconda3\\lib\\site-packages (from matplotlib) (1.18.5)\n",
      "Requirement already satisfied: certifi>=2020.06.20 in c:\\users\\hsienlo\\anaconda3\\lib\\site-packages (from matplotlib) (2020.6.20)\n",
      "Requirement already satisfied: cycler>=0.10 in c:\\users\\hsienlo\\anaconda3\\lib\\site-packages (from matplotlib) (0.10.0)\n",
      "Requirement already satisfied: six>=1.5 in c:\\users\\hsienlo\\anaconda3\\lib\\site-packages (from python-dateutil>=2.1->matplotlib) (1.15.0)\n"
     ]
    }
   ],
   "source": [
    "!pip install Cython\n",
    "!pip install jupyter\n",
    "!pip install matplotlib"
   ]
  },
  {
   "cell_type": "markdown",
   "metadata": {},
   "source": [
    "# 從 github 下載 tensorflow object detection api"
   ]
  },
  {
   "cell_type": "code",
   "execution_count": 7,
   "metadata": {},
   "outputs": [
    {
     "name": "stderr",
     "output_type": "stream",
     "text": [
      "Cloning into 'models'...\n",
      "fatal: unable to access 'https://github.com/tensorflow/models.git/': error:14094410:SSL routines:ssl3_read_bytes:sslv3 alert handshake failure\n"
     ]
    }
   ],
   "source": [
    "!git clone https://github.com/tensorflow/models.git"
   ]
  },
  {
   "cell_type": "markdown",
   "metadata": {},
   "source": [
    "# 安裝 cocoapi"
   ]
  },
  {
   "cell_type": "code",
   "execution_count": 4,
   "metadata": {},
   "outputs": [
    {
     "name": "stdout",
     "output_type": "stream",
     "text": [
      "^C\n"
     ]
    },
    {
     "name": "stderr",
     "output_type": "stream",
     "text": [
      "系統找不到指定的路徑。\n"
     ]
    }
   ],
   "source": [
    "!git clone https://github.com/cocodataset/cocoapi.git\n",
    "!cd cocoapi/PythonAPI; make; cp -r pycocotools ../../models/research/"
   ]
  },
  {
   "cell_type": "markdown",
   "metadata": {},
   "source": [
    "# 安裝 tensorflow object detection api"
   ]
  },
  {
   "cell_type": "code",
   "execution_count": 5,
   "metadata": {},
   "outputs": [
    {
     "name": "stdout",
     "output_type": "stream",
     "text": [
      "[WinError 2] 系統找不到指定的檔案。: 'models/research'\n",
      "C:\\Users\\Hsienlo\\OneDrive - me.mcu.edu.tw\\My Documents\\AI Learning Plan\\電腦視覺與深度學習馬拉松\\1st-DL-CVMarathon\\day048_workdir\n",
      "env: PYTHONPATH=/content/gdrive/My\\ Drive/models/research:/content/gdrive/My\\ Drive/models/research/slim\n"
     ]
    },
    {
     "name": "stderr",
     "output_type": "stream",
     "text": [
      "python: can't open file 'setup.py': [Errno 2] No such file or directory\n",
      "python: can't open file 'setup.py': [Errno 2] No such file or directory\n"
     ]
    }
   ],
   "source": [
    "%cd models/research\n",
    "%set_env PYTHONPATH=/content/gdrive/My\\ Drive/models/research:/content/gdrive/My\\ Drive/models/research/slim\n",
    "    \n",
    "!python setup.py build\n",
    "!python setup.py install"
   ]
  },
  {
   "cell_type": "code",
   "execution_count": 6,
   "metadata": {},
   "outputs": [
    {
     "name": "stdout",
     "output_type": "stream",
     "text": [
      "[WinError 2] 系統找不到指定的檔案。: 'slim'\n",
      "C:\\Users\\Hsienlo\\OneDrive - me.mcu.edu.tw\\My Documents\\AI Learning Plan\\電腦視覺與深度學習馬拉松\\1st-DL-CVMarathon\\day048_workdir\n"
     ]
    },
    {
     "name": "stderr",
     "output_type": "stream",
     "text": [
      "python: can't open file 'setup.py': [Errno 2] No such file or directory\n"
     ]
    },
    {
     "name": "stdout",
     "output_type": "stream",
     "text": [
      "C:\\Users\\Hsienlo\\OneDrive - me.mcu.edu.tw\\My Documents\\AI Learning Plan\\電腦視覺與深度學習馬拉松\\1st-DL-CVMarathon\n"
     ]
    },
    {
     "name": "stderr",
     "output_type": "stream",
     "text": [
      "python: can't open file 'setup.py': [Errno 2] No such file or directory\n",
      "Cloning into 'cocoapi'...\n",
      "Cloning into 'models'...\n",
      "Updating files:  40% (880/2168)\n",
      "Updating files:  41% (889/2168)\n",
      "Updating files:  42% (911/2168)\n",
      "Updating files:  43% (933/2168)\n",
      "Updating files:  44% (954/2168)\n",
      "Updating files:  45% (976/2168)\n",
      "Updating files:  46% (998/2168)\n",
      "Updating files:  47% (1019/2168)\n",
      "Updating files:  48% (1041/2168)\n",
      "Updating files:  49% (1063/2168)\n",
      "Updating files:  50% (1084/2168)\n",
      "Updating files:  51% (1106/2168)\n",
      "Updating files:  52% (1128/2168)\n",
      "Updating files:  53% (1150/2168)\n",
      "Updating files:  54% (1171/2168)\n",
      "Updating files:  55% (1193/2168)\n",
      "Updating files:  56% (1215/2168)\n",
      "Updating files:  57% (1236/2168)\n",
      "Updating files:  58% (1258/2168)\n",
      "Updating files:  59% (1280/2168)\n",
      "Updating files:  60% (1301/2168)\n",
      "Updating files:  61% (1323/2168)\n",
      "Updating files:  62% (1345/2168)\n",
      "Updating files:  63% (1366/2168)\n",
      "Updating files:  64% (1388/2168)\n",
      "Updating files:  65% (1410/2168)\n",
      "Updating files:  66% (1431/2168)\n",
      "Updating files:  67% (1453/2168)\n",
      "Updating files:  68% (1475/2168)\n",
      "Updating files:  69% (1496/2168)\n",
      "Updating files:  70% (1518/2168)\n",
      "Updating files:  71% (1540/2168)\n",
      "Updating files:  72% (1561/2168)\n",
      "Updating files:  73% (1583/2168)\n",
      "Updating files:  74% (1605/2168)\n",
      "Updating files:  75% (1626/2168)\n",
      "Updating files:  76% (1648/2168)\n",
      "Updating files:  77% (1670/2168)\n",
      "Updating files:  78% (1692/2168)\n",
      "Updating files:  79% (1713/2168)\n",
      "Updating files:  80% (1735/2168)\n",
      "error: unable to create file research/object_detection/samples/configs/ssd_mobilenet_v2_fpnlite_quantized_shared_box_predictor_256x256_depthmultiplier_75_coco14_sync.config: Filename too long\n",
      "Updating files:  81% (1757/2168)\n",
      "Updating files:  82% (1778/2168)\n",
      "Updating files:  83% (1800/2168)\n",
      "Updating files:  84% (1822/2168)\n",
      "Updating files:  85% (1843/2168)\n",
      "Updating files:  86% (1865/2168)\n",
      "Updating files:  87% (1887/2168)\n",
      "Updating files:  88% (1908/2168)\n",
      "Updating files:  89% (1930/2168)\n",
      "Updating files:  90% (1952/2168)\n",
      "Updating files:  91% (1973/2168)\n",
      "Updating files:  92% (1995/2168)\n",
      "Updating files:  93% (2017/2168)\n",
      "Updating files:  94% (2038/2168)\n",
      "Updating files:  95% (2060/2168)\n",
      "Updating files:  96% (2082/2168)\n",
      "Updating files:  97% (2103/2168)\n",
      "Updating files:  98% (2125/2168)\n",
      "Updating files:  99% (2147/2168)\n",
      "Updating files: 100% (2168/2168)\n",
      "Updating files: 100% (2168/2168), done.\n",
      "fatal: unable to checkout working tree\n",
      "warning: Clone succeeded, but checkout failed.\n",
      "You can inspect what was checked out with 'git status'\n",
      "and retry with 'git restore --source=HEAD :/'\n",
      "\n"
     ]
    }
   ],
   "source": [
    "%cd slim\n",
    "!python setup.py build\n",
    "!python setup.py install\n",
    "%cd .."
   ]
  },
  {
   "cell_type": "code",
   "execution_count": null,
   "metadata": {},
   "outputs": [],
   "source": [
    "# 建立放置 protoc 的目錄\n",
    "!mkdir protoc_3.3\n",
    "\n",
    "# 下載與解壓縮 protoc 3.3\n",
    "%cd protoc_3.3\n",
    "!wget https://github.com/google/protobuf/releases/download/v3.3.0/protoc-3.3.0-linux-x86_64.zip\n",
    "!chmod 775 protoc-3.3.0-linux-x86_64.zip\n",
    "!unzip protoc-3.3.0-linux-x86_64.zip\n",
    "%cd ..\n",
    "\n",
    "# 使用 protoc 3.3 編譯\n",
    "!protoc_3.3/bin/protoc object_detection/protos/*.proto --python_out=."
   ]
  },
  {
   "cell_type": "markdown",
   "metadata": {},
   "source": [
    "# (option) 到 models/research/object_detection 開啓 object_detection_tutorial.ipynb 按照步驟執行\n",
    "\n",
    "- 此教材為指導如何使用官方的程式執行 object detection inference"
   ]
  },
  {
   "cell_type": "code",
   "execution_count": null,
   "metadata": {},
   "outputs": [],
   "source": []
  }
 ],
 "metadata": {
  "kernelspec": {
   "display_name": "Python 3",
   "language": "python",
   "name": "python3"
  },
  "language_info": {
   "codemirror_mode": {
    "name": "ipython",
    "version": 3
   },
   "file_extension": ".py",
   "mimetype": "text/x-python",
   "name": "python",
   "nbconvert_exporter": "python",
   "pygments_lexer": "ipython3",
   "version": "3.8.5"
  }
 },
 "nbformat": 4,
 "nbformat_minor": 4
}
