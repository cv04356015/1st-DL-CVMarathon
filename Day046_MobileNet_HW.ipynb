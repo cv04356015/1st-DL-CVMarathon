{
  "nbformat": 4,
  "nbformat_minor": 0,
  "metadata": {
    "kernelspec": {
      "display_name": "Python 3",
      "language": "python",
      "name": "python3"
    },
    "language_info": {
      "codemirror_mode": {
        "name": "ipython",
        "version": 3
      },
      "file_extension": ".py",
      "mimetype": "text/x-python",
      "name": "python",
      "nbconvert_exporter": "python",
      "pygments_lexer": "ipython3",
      "version": "3.5.4"
    },
    "colab": {
      "name": "Day046_MobileNet_HW.ipynb",
      "provenance": [],
      "collapsed_sections": []
    }
  },
  "cells": [
    {
      "cell_type": "markdown",
      "metadata": {
        "id": "qB2Q9oMPBN7G"
      },
      "source": [
        "# 作業"
      ]
    },
    {
      "cell_type": "markdown",
      "metadata": {
        "id": "3CFqaPfrBN7G"
      },
      "source": [
        "### 嘗試用 keras 的 DepthwiseConv2D 等 layers 實做 Separable Convolution.\n",
        "   - depthwise's filter shape 爲 (3,3), padding = same\n",
        "   - pointwise's filters size 爲 128\n",
        "   - 不需要給 alpha, depth multiplier 參數"
      ]
    },
    {
      "cell_type": "markdown",
      "metadata": {
        "id": "tOnLViHMBN7H"
      },
      "source": [
        "##### 載入套件"
      ]
    },
    {
      "cell_type": "code",
      "metadata": {
        "id": "OZ6wIzhuBN7H"
      },
      "source": [
        "from keras.models import Input, Model\n",
        "from keras.layers import DepthwiseConv2D, Conv2D, BatchNormalization, ReLU"
      ],
      "execution_count": 1,
      "outputs": []
    },
    {
      "cell_type": "markdown",
      "metadata": {
        "id": "d3N6XOXvBN7H"
      },
      "source": [
        "##### 定義 Separable Convolution 函數 (請在此實做)"
      ]
    },
    {
      "cell_type": "code",
      "metadata": {
        "id": "mc8ig41_BN7H"
      },
      "source": [
        "def SeparableConv(input):\n",
        "  '''\n",
        "  Args:\n",
        "      input: input tensor\n",
        "  Output:\n",
        "      output: output tensor\n",
        "  '''\n",
        "  \n",
        "  # Depthwise Convolution\n",
        "  x = DepthwiseConv2D((3,3), padding='same')(input)\n",
        "  x = BatchNormalization()(x)\n",
        "  x = ReLU()(x)\n",
        "  \n",
        "  # Pointwise Convolution\n",
        "  x = Conv2D(128, (1,1))(x)\n",
        "  x = BatchNormalization()(x)\n",
        "  x = ReLU()(x)\n",
        "  \n",
        "  return x"
      ],
      "execution_count": 4,
      "outputs": []
    },
    {
      "cell_type": "markdown",
      "metadata": {
        "id": "I9F0kYxQBN7H"
      },
      "source": [
        "##### 建構模型"
      ]
    },
    {
      "cell_type": "code",
      "metadata": {
        "colab": {
          "base_uri": "https://localhost:8080/"
        },
        "id": "K7hvsUY_BN7H",
        "outputId": "6ad2016e-39bc-4564-fe63-dc967ca730c4"
      },
      "source": [
        "input = Input((64, 64, 3))\n",
        "output = SeparableConv(input)\n",
        "model = Model(inputs=input, outputs=output)\n",
        "model.summary()"
      ],
      "execution_count": 5,
      "outputs": [
        {
          "output_type": "stream",
          "text": [
            "Model: \"functional_2\"\n",
            "_________________________________________________________________\n",
            "Layer (type)                 Output Shape              Param #   \n",
            "=================================================================\n",
            "input_2 (InputLayer)         [(None, 64, 64, 3)]       0         \n",
            "_________________________________________________________________\n",
            "depthwise_conv2d_1 (Depthwis (None, 64, 64, 3)         30        \n",
            "_________________________________________________________________\n",
            "batch_normalization_2 (Batch (None, 64, 64, 3)         12        \n",
            "_________________________________________________________________\n",
            "re_lu_2 (ReLU)               (None, 64, 64, 3)         0         \n",
            "_________________________________________________________________\n",
            "conv2d_1 (Conv2D)            (None, 64, 64, 128)       512       \n",
            "_________________________________________________________________\n",
            "batch_normalization_3 (Batch (None, 64, 64, 128)       512       \n",
            "_________________________________________________________________\n",
            "re_lu_3 (ReLU)               (None, 64, 64, 128)       0         \n",
            "=================================================================\n",
            "Total params: 1,066\n",
            "Trainable params: 804\n",
            "Non-trainable params: 262\n",
            "_________________________________________________________________\n"
          ],
          "name": "stdout"
        }
      ]
    },
    {
      "cell_type": "code",
      "metadata": {
        "collapsed": true,
        "id": "QtDNmEuqBN7I"
      },
      "source": [
        ""
      ],
      "execution_count": null,
      "outputs": []
    }
  ]
}