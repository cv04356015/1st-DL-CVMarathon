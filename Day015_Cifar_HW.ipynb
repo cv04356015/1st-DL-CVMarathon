{
  "nbformat": 4,
  "nbformat_minor": 0,
  "metadata": {
    "colab": {
      "name": "Day015_Cifar_HW.ipynb",
      "provenance": []
    },
    "kernelspec": {
      "name": "python3",
      "display_name": "Python 3"
    },
    "accelerator": "GPU"
  },
  "cells": [
    {
      "cell_type": "markdown",
      "metadata": {
        "id": "EWsrWBBoM5vI"
      },
      "source": [
        "## 『本次練習內容』\n",
        "#### 運用這幾天所學觀念搭建一個CNN分類器"
      ]
    },
    {
      "cell_type": "markdown",
      "metadata": {
        "id": "9v_TtQpmM_rh"
      },
      "source": [
        "## 『本次練習目的』\n",
        "  #### 熟悉CNN分類器搭建步驟與原理\n",
        "  #### 學員們可以嘗試不同搭法，如使用不同的Maxpooling層，用GlobalAveragePooling取代Flatten等等\n"
      ]
    },
    {
      "cell_type": "code",
      "metadata": {
        "id": "gD2RNzbwMWuf"
      },
      "source": [
        "from keras.models import Sequential\n",
        "from keras.layers import Convolution2D\n",
        "from keras.layers import MaxPooling2D\n",
        "from keras.layers import Flatten\n",
        "from keras.layers import Dense\n",
        "from keras.layers import Dropout\n",
        "from keras.layers import BatchNormalization\n",
        "from keras.datasets import cifar10\n",
        "import numpy as np\n",
        "import tensorflow as tf\n",
        "from sklearn.preprocessing import OneHotEncoder\n"
      ],
      "execution_count": 1,
      "outputs": []
    },
    {
      "cell_type": "code",
      "metadata": {
        "id": "1weeuIMbMdma",
        "outputId": "6711aaf4-0b47-4411-f936-7d0d06b63672",
        "colab": {
          "base_uri": "https://localhost:8080/",
          "height": 69
        }
      },
      "source": [
        "(x_train, y_train), (x_test, y_test) = cifar10.load_data()\n",
        "print(x_train.shape) #(50000, 32, 32, 3)"
      ],
      "execution_count": 2,
      "outputs": [
        {
          "output_type": "stream",
          "text": [
            "Downloading data from https://www.cs.toronto.edu/~kriz/cifar-10-python.tar.gz\n",
            "170500096/170498071 [==============================] - 11s 0us/step\n",
            "(50000, 32, 32, 3)\n"
          ],
          "name": "stdout"
        }
      ]
    },
    {
      "cell_type": "code",
      "metadata": {
        "id": "fku31Gy3Mi4P"
      },
      "source": [
        "## Normalize Data\n",
        "def normalize(X_train,X_test):\n",
        "        mean = np.mean(X_train,axis=(0,1,2,3))\n",
        "        std = np.std(X_train, axis=(0, 1, 2, 3))\n",
        "        X_train = (X_train-mean)/(std+1e-7)\n",
        "        X_test = (X_test-mean)/(std+1e-7) \n",
        "        return X_train, X_test,mean,std\n",
        "\n",
        "## Normalize Training and Testset    \n",
        "x_train, x_test,mean_train,std_train = normalize(x_train, x_test) "
      ],
      "execution_count": 3,
      "outputs": []
    },
    {
      "cell_type": "code",
      "metadata": {
        "id": "M9-6dZu1Mki9"
      },
      "source": [
        "## OneHot Label 由(None, 1)-(None, 10)\n",
        "## ex. label=2,變成[0,0,1,0,0,0,0,0,0,0]\n",
        "one_hot=OneHotEncoder()\n",
        "y_train=one_hot.fit_transform(y_train).toarray()\n",
        "y_test=one_hot.transform(y_test).toarray()"
      ],
      "execution_count": 4,
      "outputs": []
    },
    {
      "cell_type": "code",
      "metadata": {
        "id": "U53TKi8FMxoS",
        "outputId": "c3db3a5e-c0dd-4b47-ffb5-88d31a97ad48",
        "colab": {
          "base_uri": "https://localhost:8080/",
          "height": 1000
        }
      },
      "source": [
        "classifier=Sequential()\n",
        "\n",
        "input_shape = (32, 32, 3)\n",
        "\n",
        "#卷積組合\n",
        "#32,3,3,input_shape=(32,32,3),activation='relu''\n",
        "classifier.add(Convolution2D(32, kernel_size=(3, 3), padding='same', input_shape=input_shape))\n",
        "classifier.add(BatchNormalization())\n",
        "\n",
        "# MaxPooling2D 通常會在幾層 Convolution 後，用來降低 Feature Maps 的尺度以及強化特徵。\n",
        "classifier.add(MaxPooling2D(pool_size=(2,2)))\n",
        "\n",
        "#卷積組合\n",
        "classifier.add(Convolution2D(32, kernel_size=(3, 3), padding='same',input_shape=input_shape))\n",
        "classifier.add(BatchNormalization())\n",
        "\n",
        "#flatten\n",
        "classifier.add(Flatten())\n",
        "\n",
        "# FC\n",
        "# output_dim=100,activation=relu\n",
        "classifier.add(Dense(units=100, activation='relu')) \n",
        "\n",
        "#輸出\n",
        "classifier.add(Dense(units=10, activation='softmax'))\n",
        "\n",
        "#超過兩個就要選categorical_crossentrophy\n",
        "classifier.compile(optimizer = 'adam', loss = 'categorical_crossentropy', metrics = ['accuracy'])\n",
        "classifier.fit(x_train,y_train,batch_size=100,epochs=100)"
      ],
      "execution_count": 5,
      "outputs": [
        {
          "output_type": "stream",
          "text": [
            "Epoch 1/100\n",
            "500/500 [==============================] - 4s 8ms/step - loss: 1.4728 - accuracy: 0.4866\n",
            "Epoch 2/100\n",
            "500/500 [==============================] - 4s 8ms/step - loss: 1.0613 - accuracy: 0.6289\n",
            "Epoch 3/100\n",
            "500/500 [==============================] - 4s 8ms/step - loss: 0.8919 - accuracy: 0.6884\n",
            "Epoch 4/100\n",
            "500/500 [==============================] - 4s 8ms/step - loss: 0.7840 - accuracy: 0.7246\n",
            "Epoch 5/100\n",
            "500/500 [==============================] - 4s 8ms/step - loss: 0.6850 - accuracy: 0.7595\n",
            "Epoch 6/100\n",
            "500/500 [==============================] - 4s 8ms/step - loss: 0.5913 - accuracy: 0.7934\n",
            "Epoch 7/100\n",
            "500/500 [==============================] - 4s 8ms/step - loss: 0.4846 - accuracy: 0.8275\n",
            "Epoch 8/100\n",
            "500/500 [==============================] - 4s 8ms/step - loss: 0.4128 - accuracy: 0.8575\n",
            "Epoch 9/100\n",
            "500/500 [==============================] - 4s 8ms/step - loss: 0.3361 - accuracy: 0.8825\n",
            "Epoch 10/100\n",
            "500/500 [==============================] - 4s 8ms/step - loss: 0.2776 - accuracy: 0.9034\n",
            "Epoch 11/100\n",
            "500/500 [==============================] - 4s 8ms/step - loss: 0.2361 - accuracy: 0.9187\n",
            "Epoch 12/100\n",
            "500/500 [==============================] - 4s 8ms/step - loss: 0.1942 - accuracy: 0.9328\n",
            "Epoch 13/100\n",
            "500/500 [==============================] - 4s 8ms/step - loss: 0.1733 - accuracy: 0.9404\n",
            "Epoch 14/100\n",
            "500/500 [==============================] - 4s 8ms/step - loss: 0.1593 - accuracy: 0.9446\n",
            "Epoch 15/100\n",
            "500/500 [==============================] - 4s 8ms/step - loss: 0.1391 - accuracy: 0.9525\n",
            "Epoch 16/100\n",
            "500/500 [==============================] - 4s 8ms/step - loss: 0.1198 - accuracy: 0.9597\n",
            "Epoch 17/100\n",
            "500/500 [==============================] - 4s 8ms/step - loss: 0.1264 - accuracy: 0.9569\n",
            "Epoch 18/100\n",
            "500/500 [==============================] - 4s 8ms/step - loss: 0.1143 - accuracy: 0.9617\n",
            "Epoch 19/100\n",
            "500/500 [==============================] - 4s 8ms/step - loss: 0.0917 - accuracy: 0.9689\n",
            "Epoch 20/100\n",
            "500/500 [==============================] - 4s 8ms/step - loss: 0.0868 - accuracy: 0.9701\n",
            "Epoch 21/100\n",
            "500/500 [==============================] - 4s 8ms/step - loss: 0.1069 - accuracy: 0.9644\n",
            "Epoch 22/100\n",
            "500/500 [==============================] - 4s 8ms/step - loss: 0.0907 - accuracy: 0.9692\n",
            "Epoch 23/100\n",
            "500/500 [==============================] - 4s 8ms/step - loss: 0.0831 - accuracy: 0.9716\n",
            "Epoch 24/100\n",
            "500/500 [==============================] - 4s 8ms/step - loss: 0.0719 - accuracy: 0.9768\n",
            "Epoch 25/100\n",
            "500/500 [==============================] - 4s 8ms/step - loss: 0.0795 - accuracy: 0.9732\n",
            "Epoch 26/100\n",
            "500/500 [==============================] - 4s 8ms/step - loss: 0.0815 - accuracy: 0.9737\n",
            "Epoch 27/100\n",
            "500/500 [==============================] - 4s 8ms/step - loss: 0.0712 - accuracy: 0.9769\n",
            "Epoch 28/100\n",
            "500/500 [==============================] - 4s 8ms/step - loss: 0.0630 - accuracy: 0.9803\n",
            "Epoch 29/100\n",
            "500/500 [==============================] - 4s 8ms/step - loss: 0.0674 - accuracy: 0.9775\n",
            "Epoch 30/100\n",
            "500/500 [==============================] - 4s 8ms/step - loss: 0.0702 - accuracy: 0.9775\n",
            "Epoch 31/100\n",
            "500/500 [==============================] - 4s 8ms/step - loss: 0.0540 - accuracy: 0.9824\n",
            "Epoch 32/100\n",
            "500/500 [==============================] - 4s 8ms/step - loss: 0.0674 - accuracy: 0.9782\n",
            "Epoch 33/100\n",
            "500/500 [==============================] - 4s 8ms/step - loss: 0.0495 - accuracy: 0.9835\n",
            "Epoch 34/100\n",
            "500/500 [==============================] - 4s 8ms/step - loss: 0.0581 - accuracy: 0.9813\n",
            "Epoch 35/100\n",
            "500/500 [==============================] - 4s 8ms/step - loss: 0.0744 - accuracy: 0.9758\n",
            "Epoch 36/100\n",
            "500/500 [==============================] - 4s 8ms/step - loss: 0.0432 - accuracy: 0.9857\n",
            "Epoch 37/100\n",
            "500/500 [==============================] - 4s 8ms/step - loss: 0.0425 - accuracy: 0.9863\n",
            "Epoch 38/100\n",
            "500/500 [==============================] - 4s 8ms/step - loss: 0.0619 - accuracy: 0.9801\n",
            "Epoch 39/100\n",
            "500/500 [==============================] - 4s 8ms/step - loss: 0.0474 - accuracy: 0.9850\n",
            "Epoch 40/100\n",
            "500/500 [==============================] - 4s 8ms/step - loss: 0.0583 - accuracy: 0.9813\n",
            "Epoch 41/100\n",
            "500/500 [==============================] - 4s 8ms/step - loss: 0.0434 - accuracy: 0.9862\n",
            "Epoch 42/100\n",
            "500/500 [==============================] - 4s 8ms/step - loss: 0.0399 - accuracy: 0.9872\n",
            "Epoch 43/100\n",
            "500/500 [==============================] - 4s 8ms/step - loss: 0.0449 - accuracy: 0.9857\n",
            "Epoch 44/100\n",
            "500/500 [==============================] - 4s 8ms/step - loss: 0.0452 - accuracy: 0.9859\n",
            "Epoch 45/100\n",
            "500/500 [==============================] - 4s 8ms/step - loss: 0.0349 - accuracy: 0.9890\n",
            "Epoch 46/100\n",
            "500/500 [==============================] - 4s 8ms/step - loss: 0.0532 - accuracy: 0.9835\n",
            "Epoch 47/100\n",
            "500/500 [==============================] - 4s 8ms/step - loss: 0.0419 - accuracy: 0.9858\n",
            "Epoch 48/100\n",
            "500/500 [==============================] - 4s 8ms/step - loss: 0.0356 - accuracy: 0.9889\n",
            "Epoch 49/100\n",
            "500/500 [==============================] - 4s 8ms/step - loss: 0.0440 - accuracy: 0.9863\n",
            "Epoch 50/100\n",
            "500/500 [==============================] - 4s 8ms/step - loss: 0.0478 - accuracy: 0.9844\n",
            "Epoch 51/100\n",
            "500/500 [==============================] - 4s 8ms/step - loss: 0.0374 - accuracy: 0.9881\n",
            "Epoch 52/100\n",
            "500/500 [==============================] - 4s 8ms/step - loss: 0.0408 - accuracy: 0.9869\n",
            "Epoch 53/100\n",
            "500/500 [==============================] - 4s 8ms/step - loss: 0.0348 - accuracy: 0.9886\n",
            "Epoch 54/100\n",
            "500/500 [==============================] - 4s 8ms/step - loss: 0.0275 - accuracy: 0.9912\n",
            "Epoch 55/100\n",
            "500/500 [==============================] - 4s 8ms/step - loss: 0.0340 - accuracy: 0.9894\n",
            "Epoch 56/100\n",
            "500/500 [==============================] - 4s 8ms/step - loss: 0.0408 - accuracy: 0.9870\n",
            "Epoch 57/100\n",
            "500/500 [==============================] - 4s 8ms/step - loss: 0.0361 - accuracy: 0.9885\n",
            "Epoch 58/100\n",
            "500/500 [==============================] - 4s 8ms/step - loss: 0.0360 - accuracy: 0.9879\n",
            "Epoch 59/100\n",
            "500/500 [==============================] - 4s 8ms/step - loss: 0.0314 - accuracy: 0.9896\n",
            "Epoch 60/100\n",
            "500/500 [==============================] - 4s 8ms/step - loss: 0.0336 - accuracy: 0.9898\n",
            "Epoch 61/100\n",
            "500/500 [==============================] - 4s 8ms/step - loss: 0.0344 - accuracy: 0.9886\n",
            "Epoch 62/100\n",
            "500/500 [==============================] - 4s 8ms/step - loss: 0.0272 - accuracy: 0.9908\n",
            "Epoch 63/100\n",
            "500/500 [==============================] - 4s 8ms/step - loss: 0.0237 - accuracy: 0.9920\n",
            "Epoch 64/100\n",
            "500/500 [==============================] - 4s 8ms/step - loss: 0.0309 - accuracy: 0.9902\n",
            "Epoch 65/100\n",
            "500/500 [==============================] - 4s 8ms/step - loss: 0.0361 - accuracy: 0.9882\n",
            "Epoch 66/100\n",
            "500/500 [==============================] - 4s 8ms/step - loss: 0.0309 - accuracy: 0.9904\n",
            "Epoch 67/100\n",
            "500/500 [==============================] - 4s 8ms/step - loss: 0.0315 - accuracy: 0.9900\n",
            "Epoch 68/100\n",
            "500/500 [==============================] - 4s 8ms/step - loss: 0.0310 - accuracy: 0.9902\n",
            "Epoch 69/100\n",
            "500/500 [==============================] - 4s 8ms/step - loss: 0.0230 - accuracy: 0.9930\n",
            "Epoch 70/100\n",
            "500/500 [==============================] - 4s 8ms/step - loss: 0.0234 - accuracy: 0.9928\n",
            "Epoch 71/100\n",
            "500/500 [==============================] - 4s 8ms/step - loss: 0.0326 - accuracy: 0.9900\n",
            "Epoch 72/100\n",
            "500/500 [==============================] - 4s 8ms/step - loss: 0.0266 - accuracy: 0.9914\n",
            "Epoch 73/100\n",
            "500/500 [==============================] - 4s 8ms/step - loss: 0.0254 - accuracy: 0.9921\n",
            "Epoch 74/100\n",
            "500/500 [==============================] - 4s 8ms/step - loss: 0.0279 - accuracy: 0.9909\n",
            "Epoch 75/100\n",
            "500/500 [==============================] - 4s 8ms/step - loss: 0.0300 - accuracy: 0.9908\n",
            "Epoch 76/100\n",
            "500/500 [==============================] - 4s 8ms/step - loss: 0.0216 - accuracy: 0.9929\n",
            "Epoch 77/100\n",
            "500/500 [==============================] - 4s 8ms/step - loss: 0.0262 - accuracy: 0.9919\n",
            "Epoch 78/100\n",
            "500/500 [==============================] - 4s 8ms/step - loss: 0.0162 - accuracy: 0.9947\n",
            "Epoch 79/100\n",
            "500/500 [==============================] - 4s 8ms/step - loss: 0.0246 - accuracy: 0.9920\n",
            "Epoch 80/100\n",
            "500/500 [==============================] - 4s 8ms/step - loss: 0.0324 - accuracy: 0.9897\n",
            "Epoch 81/100\n",
            "500/500 [==============================] - 4s 8ms/step - loss: 0.0223 - accuracy: 0.9928\n",
            "Epoch 82/100\n",
            "500/500 [==============================] - 4s 8ms/step - loss: 0.0253 - accuracy: 0.9920\n",
            "Epoch 83/100\n",
            "500/500 [==============================] - 4s 8ms/step - loss: 0.0228 - accuracy: 0.9928\n",
            "Epoch 84/100\n",
            "500/500 [==============================] - 4s 8ms/step - loss: 0.0237 - accuracy: 0.9928\n",
            "Epoch 85/100\n",
            "500/500 [==============================] - 4s 8ms/step - loss: 0.0180 - accuracy: 0.9944\n",
            "Epoch 86/100\n",
            "500/500 [==============================] - 4s 8ms/step - loss: 0.0260 - accuracy: 0.9922\n",
            "Epoch 87/100\n",
            "500/500 [==============================] - 4s 8ms/step - loss: 0.0232 - accuracy: 0.9925\n",
            "Epoch 88/100\n",
            "500/500 [==============================] - 4s 8ms/step - loss: 0.0205 - accuracy: 0.9937\n",
            "Epoch 89/100\n",
            "500/500 [==============================] - 4s 8ms/step - loss: 0.0222 - accuracy: 0.9936\n",
            "Epoch 90/100\n",
            "500/500 [==============================] - 4s 8ms/step - loss: 0.0263 - accuracy: 0.9921\n",
            "Epoch 91/100\n",
            "500/500 [==============================] - 4s 8ms/step - loss: 0.0119 - accuracy: 0.9961\n",
            "Epoch 92/100\n",
            "500/500 [==============================] - 4s 8ms/step - loss: 0.0223 - accuracy: 0.9930\n",
            "Epoch 93/100\n",
            "500/500 [==============================] - 4s 8ms/step - loss: 0.0276 - accuracy: 0.9921\n",
            "Epoch 94/100\n",
            "500/500 [==============================] - 4s 8ms/step - loss: 0.0160 - accuracy: 0.9948\n",
            "Epoch 95/100\n",
            "500/500 [==============================] - 4s 8ms/step - loss: 0.0264 - accuracy: 0.9918\n",
            "Epoch 96/100\n",
            "500/500 [==============================] - 4s 8ms/step - loss: 0.0136 - accuracy: 0.9953\n",
            "Epoch 97/100\n",
            "500/500 [==============================] - 4s 8ms/step - loss: 0.0088 - accuracy: 0.9975\n",
            "Epoch 98/100\n",
            "500/500 [==============================] - 4s 8ms/step - loss: 0.0321 - accuracy: 0.9909\n",
            "Epoch 99/100\n",
            "500/500 [==============================] - 4s 8ms/step - loss: 0.0181 - accuracy: 0.9944\n",
            "Epoch 100/100\n",
            "500/500 [==============================] - 4s 8ms/step - loss: 0.0221 - accuracy: 0.9934\n"
          ],
          "name": "stdout"
        },
        {
          "output_type": "execute_result",
          "data": {
            "text/plain": [
              "<tensorflow.python.keras.callbacks.History at 0x7f17705c7f60>"
            ]
          },
          "metadata": {
            "tags": []
          },
          "execution_count": 5
        }
      ]
    },
    {
      "cell_type": "markdown",
      "metadata": {
        "id": "89dSER-2NHax"
      },
      "source": [
        "## 預測新圖片，輸入影像前處理要與訓練時相同\n",
        "#### ((X-mean)/(std+1e-7) ):這裡的mean跟std是訓練集的\n",
        "## 維度如下方示範"
      ]
    },
    {
      "cell_type": "code",
      "metadata": {
        "id": "snhntqBkMz51",
        "outputId": "36155974-8499-477f-f44c-981249a6e0ed",
        "colab": {
          "base_uri": "https://localhost:8080/",
          "height": 69
        }
      },
      "source": [
        "input_example=(np.zeros(shape=(1,32,32,3))-mean_train)/(std_train+1e-7) \n",
        "classifier.predict(input_example)"
      ],
      "execution_count": 6,
      "outputs": [
        {
          "output_type": "execute_result",
          "data": {
            "text/plain": [
              "array([[1.4067942e-04, 8.4954481e-05, 3.3949956e-03, 9.9373794e-01,\n",
              "        8.5904851e-04, 1.4369336e-08, 1.5938883e-03, 1.6109092e-10,\n",
              "        7.9198780e-06, 1.8042175e-04]], dtype=float32)"
            ]
          },
          "metadata": {
            "tags": []
          },
          "execution_count": 6
        }
      ]
    }
  ]
}